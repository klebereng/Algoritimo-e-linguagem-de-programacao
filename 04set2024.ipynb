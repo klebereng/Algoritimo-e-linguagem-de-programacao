{
  "nbformat": 4,
  "nbformat_minor": 0,
  "metadata": {
    "colab": {
      "provenance": [],
      "authorship_tag": "ABX9TyOiBnSV6T9o2vaKeAHduzI6",
      "include_colab_link": true
    },
    "kernelspec": {
      "name": "python3",
      "display_name": "Python 3"
    },
    "language_info": {
      "name": "python"
    }
  },
  "cells": [
    {
      "cell_type": "markdown",
      "metadata": {
        "id": "view-in-github",
        "colab_type": "text"
      },
      "source": [
        "<a href=\"https://colab.research.google.com/github/klebereng/Civil/blob/main/04set2024.ipynb\" target=\"_parent\"><img src=\"https://colab.research.google.com/assets/colab-badge.svg\" alt=\"Open In Colab\"/></a>"
      ]
    },
    {
      "cell_type": "code",
      "execution_count": null,
      "metadata": {
        "id": "mqrtarqyi5Z-"
      },
      "outputs": [],
      "source": []
    },
    {
      "cell_type": "markdown",
      "source": [
        "Exemplo 2) conversao polegadas para milimetro\n"
      ],
      "metadata": {
        "id": "ZTG3x7zXi_1z"
      }
    },
    {
      "cell_type": "code",
      "source": [
        "p = float(input(\"digite o valor em ploegadas:\"))\n",
        "mm = p*25.4\n",
        "print(\"valor em milimetros:\", mm)"
      ],
      "metadata": {
        "colab": {
          "base_uri": "https://localhost:8080/"
        },
        "id": "VaHnui9ojEN8",
        "outputId": "f167ccc3-b6bc-4363-996b-c18cbf798bb7"
      },
      "execution_count": 2,
      "outputs": [
        {
          "output_type": "stream",
          "name": "stdout",
          "text": [
            "digite o valor em ploegadas:20\n",
            "valor em milimetros: 508.0\n"
          ]
        }
      ]
    },
    {
      "cell_type": "markdown",
      "source": [
        "Exercicio 5) calculo de volume esfera"
      ],
      "metadata": {
        "id": "Hpf6o9jslZb0"
      }
    },
    {
      "cell_type": "code",
      "source": [
        "from math import pi\n",
        "r = float(input(\"digite o valor do raio:\"))\n",
        "v = (4/3)*pi*r**3\n",
        "print(\"valor do volume da esfera:\", v)"
      ],
      "metadata": {
        "colab": {
          "base_uri": "https://localhost:8080/"
        },
        "id": "-LZvEOtPlre1",
        "outputId": "aecc2891-04da-471a-f321-8f1cad6c094c"
      },
      "execution_count": 3,
      "outputs": [
        {
          "output_type": "stream",
          "name": "stdout",
          "text": [
            "digite o valor do raio:30\n",
            "valor do volume da esfera: 113097.33552923254\n"
          ]
        }
      ]
    },
    {
      "cell_type": "markdown",
      "source": [
        "Exercicio 6) conversao de graus para radianos\n"
      ],
      "metadata": {
        "id": "_Rs-xcuunCsv"
      }
    },
    {
      "cell_type": "code",
      "source": [
        "from math import pi\n",
        "g = float(input(\"digite os graus:\"))\n",
        "r = (g*pi)/180\n",
        "print(\"valor em radianos:\", r)"
      ],
      "metadata": {
        "colab": {
          "base_uri": "https://localhost:8080/"
        },
        "id": "dLqQGH0snRtQ",
        "outputId": "173e7880-6b43-4a0d-abde-4768d4cc18d6"
      },
      "execution_count": 4,
      "outputs": [
        {
          "output_type": "stream",
          "name": "stdout",
          "text": [
            "digite os graus:30\n",
            "valor em radianos: 0.5235987755982988\n"
          ]
        }
      ]
    },
    {
      "cell_type": "markdown",
      "source": [
        "Exercicio 7) conversao de radianos para graus\n"
      ],
      "metadata": {
        "id": "Y7lufvdmoYAJ"
      }
    },
    {
      "cell_type": "code",
      "source": [
        "from math import pi\n",
        "r = float(input(\"digite os radianos:\"))\n",
        "g = (r*180)/pi\n",
        "print(\"valor em graus:\", g)"
      ],
      "metadata": {
        "colab": {
          "base_uri": "https://localhost:8080/"
        },
        "id": "pAW3Qz6Lok7i",
        "outputId": "e24b8e55-c27c-4dee-e423-7346e1eb7a28"
      },
      "execution_count": 8,
      "outputs": [
        {
          "output_type": "stream",
          "name": "stdout",
          "text": [
            "digite os radianos:0.5235987755982988\n",
            "valor em graus: 29.999999999999996\n"
          ]
        }
      ]
    },
    {
      "cell_type": "markdown",
      "source": [
        "Exercicio 8) conversao de radianos para grados"
      ],
      "metadata": {
        "id": "j40tYYaHpMNv"
      }
    },
    {
      "cell_type": "code",
      "source": [
        "from math import pi\n",
        "r = float(input(\"digite os radianos:\"))\n",
        "gon = (r*200)/pi\n",
        "print(\"valor em graus:\", gon)"
      ],
      "metadata": {
        "colab": {
          "base_uri": "https://localhost:8080/"
        },
        "id": "QjQRsmlVpX6m",
        "outputId": "e8e3a4a6-6daa-42bc-89ec-a7b286d47745"
      },
      "execution_count": 9,
      "outputs": [
        {
          "output_type": "stream",
          "name": "stdout",
          "text": [
            "digite os radianos:6.28\n",
            "valor em graus: 399.7972170468411\n"
          ]
        }
      ]
    }
  ]
}