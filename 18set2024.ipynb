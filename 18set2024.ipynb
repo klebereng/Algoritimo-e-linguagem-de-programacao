{
  "nbformat": 4,
  "nbformat_minor": 0,
  "metadata": {
    "colab": {
      "provenance": [],
      "authorship_tag": "ABX9TyPc3Y4Dwca5EEEzJf7NnIlj",
      "include_colab_link": true
    },
    "kernelspec": {
      "name": "python3",
      "display_name": "Python 3"
    },
    "language_info": {
      "name": "python"
    }
  },
  "cells": [
    {
      "cell_type": "markdown",
      "metadata": {
        "id": "view-in-github",
        "colab_type": "text"
      },
      "source": [
        "<a href=\"https://colab.research.google.com/github/klebereng/Civil/blob/main/18set2024.ipynb\" target=\"_parent\"><img src=\"https://colab.research.google.com/assets/colab-badge.svg\" alt=\"Open In Colab\"/></a>"
      ]
    },
    {
      "cell_type": "markdown",
      "source": [
        "Ex1"
      ],
      "metadata": {
        "id": "oHDtJT9MtFPa"
      }
    },
    {
      "cell_type": "code",
      "execution_count": 3,
      "metadata": {
        "colab": {
          "base_uri": "https://localhost:8080/"
        },
        "id": "iMC1CWrEjB47",
        "outputId": "5c5fe9cf-d337-454c-bbc8-a010c7e1b757"
      },
      "outputs": [
        {
          "output_type": "stream",
          "name": "stdout",
          "text": [
            "digite um numero inteiro:20\n",
            "O numero 20 nao é multiplo.\n"
          ]
        }
      ],
      "source": [
        "n=int(input(\"digite um numero inteiro:\"))\n",
        "if n % 3 == 0:\n",
        "  print(f\"O numero {n} é multiplo.\")\n",
        "else:\n",
        "  print(f\"O numero {n} nao é multiplo.\")"
      ]
    },
    {
      "cell_type": "markdown",
      "source": [
        "Ex 2"
      ],
      "metadata": {
        "id": "zXIdCsbBtBkq"
      }
    },
    {
      "cell_type": "code",
      "source": [
        "a=int(input(\"digite a nota 1:\"))\n",
        "b=int(input(\"digite a nota 2:\"))\n",
        "m=(2*a+3*b)/5\n",
        "if m >= 5:\n",
        "  print(\"aprovado.\", m)\n",
        "else:\n",
        "  print(\"reprovado\", m)"
      ],
      "metadata": {
        "colab": {
          "base_uri": "https://localhost:8080/"
        },
        "id": "IzERtyQElzHd",
        "outputId": "d9dd983f-e185-469e-9a42-43919eef2aa9"
      },
      "execution_count": 15,
      "outputs": [
        {
          "output_type": "stream",
          "name": "stdout",
          "text": [
            "digite a nota 1:4\n",
            "digite a nota 2:4\n",
            "reprovado 4.0\n"
          ]
        }
      ]
    },
    {
      "cell_type": "markdown",
      "source": [
        "Ex 3"
      ],
      "metadata": {
        "id": "rntxZCRBs4AZ"
      }
    },
    {
      "cell_type": "code",
      "source": [
        "a= float(input(\"digite o valor de a:\"))\n",
        "b= float(input(\"digite o valor de b:\"))\n",
        "c= float(input(\"digite o valor de c:\"))\n",
        "if a <= b and a <= c:\n",
        "  print(\"a menor valor\", a)\n",
        "elif b <= a and b <= c:\n",
        "  print(\"b menor valor\", b)\n",
        "elif c <= a and c <= b:\n",
        "  print(\"c menor valor\", c)"
      ],
      "metadata": {
        "colab": {
          "base_uri": "https://localhost:8080/"
        },
        "id": "Yp7ePTVPq4R4",
        "outputId": "84860aba-8a5f-4f0e-e56e-6941a8607907"
      },
      "execution_count": 18,
      "outputs": [
        {
          "output_type": "stream",
          "name": "stdout",
          "text": [
            "digite o valor de a:40\n",
            "digite o valor de b:30\n",
            "digite o valor de c:10\n",
            "c menor valor 10.0\n"
          ]
        }
      ]
    }
  ]
}