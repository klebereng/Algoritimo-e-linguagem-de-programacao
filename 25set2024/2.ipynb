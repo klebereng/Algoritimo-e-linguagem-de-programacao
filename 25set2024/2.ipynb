{
  "nbformat": 4,
  "nbformat_minor": 0,
  "metadata": {
    "colab": {
      "provenance": [],
      "include_colab_link": true
    },
    "kernelspec": {
      "name": "python3",
      "display_name": "Python 3"
    },
    "language_info": {
      "name": "python"
    }
  },
  "cells": [
    {
      "cell_type": "markdown",
      "metadata": {
        "id": "view-in-github",
        "colab_type": "text"
      },
      "source": [
        "<a href=\"https://colab.research.google.com/github/klebereng/Algoritimo-e-linguagem-de-programacao/blob/main/25set2024/2.ipynb\" target=\"_parent\"><img src=\"https://colab.research.google.com/assets/colab-badge.svg\" alt=\"Open In Colab\"/></a>"
      ]
    },
    {
      "cell_type": "markdown",
      "source": [
        "# **AULA 4**\n",
        "\n",
        "\n"
      ],
      "metadata": {
        "id": "7pBriIXfXNy0"
      }
    },
    {
      "cell_type": "markdown",
      "source": [
        "# **EXEMPLO LOO´P**\n",
        "FOR in RANGE"
      ],
      "metadata": {
        "id": "h9jEuKqmZBk9"
      }
    },
    {
      "cell_type": "code",
      "source": [
        "#Para contar de 7 até 20 de 5 em 5\n",
        "#for VARIAVEL in RANGE(inicio, fim, espaço)\n",
        "for i in range(7, 20, 5):\n",
        "  print(i)\n",
        "\n"
      ],
      "metadata": {
        "id": "Oybk2DviabmX",
        "outputId": "35ffb3e1-114f-4a91-9a9a-2d253bcc0931",
        "colab": {
          "base_uri": "https://localhost:8080/"
        }
      },
      "execution_count": null,
      "outputs": [
        {
          "output_type": "stream",
          "name": "stdout",
          "text": [
            "7\n",
            "12\n",
            "17\n"
          ]
        }
      ]
    }
  ]
}