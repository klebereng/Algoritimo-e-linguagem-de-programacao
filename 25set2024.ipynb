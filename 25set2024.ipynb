{
  "nbformat": 4,
  "nbformat_minor": 0,
  "metadata": {
    "colab": {
      "provenance": [],
      "include_colab_link": true
    },
    "kernelspec": {
      "name": "python3",
      "display_name": "Python 3"
    },
    "language_info": {
      "name": "python"
    }
  },
  "cells": [
    {
      "cell_type": "markdown",
      "metadata": {
        "id": "view-in-github",
        "colab_type": "text"
      },
      "source": [
        "<a href=\"https://colab.research.google.com/github/klebereng/Algoritimo-e-linguagem-de-programacao/blob/main/25set2024.ipynb\" target=\"_parent\"><img src=\"https://colab.research.google.com/assets/colab-badge.svg\" alt=\"Open In Colab\"/></a>"
      ]
    },
    {
      "cell_type": "markdown",
      "source": [
        "\n",
        "\n",
        "```\n",
        "# Isto está formatado como código\n",
        "```\n",
        "\n",
        "# **AULA 5**\n",
        "\n",
        "\n"
      ],
      "metadata": {
        "id": "7pBriIXfXNy0"
      }
    },
    {
      "cell_type": "markdown",
      "source": [
        "Exemplo for ex4\n",
        "\n",
        "\n"
      ],
      "metadata": {
        "id": "mEnZbCnjuFga"
      }
    },
    {
      "cell_type": "code",
      "source": [
        "#Para contar de 7 até 20 de 5 em 5\n",
        "#for VARIAVEL in RANGE(inicio, fim, espaço)\n",
        "for i in range(0, 16, 6):\n",
        "  print(i)\n",
        "\n"
      ],
      "metadata": {
        "id": "Oybk2DviabmX",
        "outputId": "22ed6bc8-f1d5-4e39-e130-00a027d90504",
        "colab": {
          "base_uri": "https://localhost:8080/"
        }
      },
      "execution_count": 13,
      "outputs": [
        {
          "output_type": "stream",
          "name": "stdout",
          "text": [
            "0\n",
            "6\n",
            "12\n"
          ]
        }
      ]
    },
    {
      "cell_type": "markdown",
      "source": [
        "Exemplo for ex5"
      ],
      "metadata": {
        "id": "HcJoX91TEDwb"
      }
    },
    {
      "cell_type": "code",
      "source": [
        "from math import pi, sin\n",
        "def Graus2Rad(Vg):\n",
        "  return Vg * pi / 180\n",
        "for i in range(0, 360, 5):\n",
        "  Vrad= Graus2Rad(i)\n",
        "  print(sin(Vrad))"
      ],
      "metadata": {
        "collapsed": true,
        "id": "uiA3g2FfEJvq",
        "outputId": "d68a38b5-00a4-4ed0-98ab-746bac913277",
        "colab": {
          "base_uri": "https://localhost:8080/"
        }
      },
      "execution_count": 15,
      "outputs": [
        {
          "output_type": "stream",
          "name": "stdout",
          "text": [
            "0.0\n",
            "0.08715574274765817\n",
            "0.17364817766693033\n",
            "0.25881904510252074\n",
            "0.3420201433256687\n",
            "0.42261826174069944\n",
            "0.49999999999999994\n",
            "0.573576436351046\n",
            "0.6427876096865393\n",
            "0.7071067811865475\n",
            "0.766044443118978\n",
            "0.8191520442889918\n",
            "0.8660254037844386\n",
            "0.9063077870366499\n",
            "0.9396926207859083\n",
            "0.9659258262890683\n",
            "0.984807753012208\n",
            "0.9961946980917455\n",
            "1.0\n",
            "0.9961946980917455\n",
            "0.984807753012208\n",
            "0.9659258262890683\n",
            "0.9396926207859084\n",
            "0.90630778703665\n",
            "0.8660254037844387\n",
            "0.819152044288992\n",
            "0.766044443118978\n",
            "0.7071067811865476\n",
            "0.6427876096865395\n",
            "0.5735764363510464\n",
            "0.49999999999999994\n",
            "0.4226182617406995\n",
            "0.3420201433256689\n",
            "0.258819045102521\n",
            "0.17364817766693028\n",
            "0.08715574274765864\n",
            "1.2246467991473532e-16\n",
            "-0.08715574274765794\n",
            "-0.17364817766693047\n",
            "-0.25881904510252035\n",
            "-0.34202014332566866\n",
            "-0.4226182617406993\n",
            "-0.5000000000000001\n",
            "-0.5735764363510458\n",
            "-0.6427876096865393\n",
            "-0.7071067811865475\n",
            "-0.7660444431189779\n",
            "-0.8191520442889916\n",
            "-0.8660254037844384\n",
            "-0.9063077870366497\n",
            "-0.9396926207859082\n",
            "-0.9659258262890683\n",
            "-0.984807753012208\n",
            "-0.9961946980917455\n",
            "-1.0\n",
            "-0.9961946980917455\n",
            "-0.9848077530122081\n",
            "-0.9659258262890682\n",
            "-0.9396926207859085\n",
            "-0.9063077870366499\n",
            "-0.8660254037844386\n",
            "-0.8191520442889918\n",
            "-0.7660444431189781\n",
            "-0.7071067811865477\n",
            "-0.6427876096865396\n",
            "-0.5735764363510465\n",
            "-0.5000000000000004\n",
            "-0.4226182617407\n",
            "-0.3420201433256686\n",
            "-0.2588190451025207\n",
            "-0.17364817766693127\n",
            "-0.08715574274765832\n"
          ]
        }
      ]
    },
    {
      "cell_type": "markdown",
      "source": [
        "Exemplo for ex6"
      ],
      "metadata": {
        "id": "NvfLZfpWFtQe"
      }
    },
    {
      "cell_type": "code",
      "source": [
        "import math\n",
        "print(f\"{'angulo(graus)':<15} {'seno':<10}\")\n",
        "for angulo in range(0,361, 5):\n",
        "  radianos= math.radians(angulo)\n",
        "  seno= math.sin(radianos)\n",
        "  print(f\"{angulo:<15} {seno:<10.4f}\")\n"
      ],
      "metadata": {
        "collapsed": true,
        "id": "vJq-mOz3FyAI",
        "outputId": "9bc58ebf-df18-4e9c-df86-2f3e88305510",
        "colab": {
          "base_uri": "https://localhost:8080/"
        }
      },
      "execution_count": 16,
      "outputs": [
        {
          "output_type": "stream",
          "name": "stdout",
          "text": [
            "angulo(graus)   seno      \n",
            "0               0.0000    \n",
            "5               0.0872    \n",
            "10              0.1736    \n",
            "15              0.2588    \n",
            "20              0.3420    \n",
            "25              0.4226    \n",
            "30              0.5000    \n",
            "35              0.5736    \n",
            "40              0.6428    \n",
            "45              0.7071    \n",
            "50              0.7660    \n",
            "55              0.8192    \n",
            "60              0.8660    \n",
            "65              0.9063    \n",
            "70              0.9397    \n",
            "75              0.9659    \n",
            "80              0.9848    \n",
            "85              0.9962    \n",
            "90              1.0000    \n",
            "95              0.9962    \n",
            "100             0.9848    \n",
            "105             0.9659    \n",
            "110             0.9397    \n",
            "115             0.9063    \n",
            "120             0.8660    \n",
            "125             0.8192    \n",
            "130             0.7660    \n",
            "135             0.7071    \n",
            "140             0.6428    \n",
            "145             0.5736    \n",
            "150             0.5000    \n",
            "155             0.4226    \n",
            "160             0.3420    \n",
            "165             0.2588    \n",
            "170             0.1736    \n",
            "175             0.0872    \n",
            "180             0.0000    \n",
            "185             -0.0872   \n",
            "190             -0.1736   \n",
            "195             -0.2588   \n",
            "200             -0.3420   \n",
            "205             -0.4226   \n",
            "210             -0.5000   \n",
            "215             -0.5736   \n",
            "220             -0.6428   \n",
            "225             -0.7071   \n",
            "230             -0.7660   \n",
            "235             -0.8192   \n",
            "240             -0.8660   \n",
            "245             -0.9063   \n",
            "250             -0.9397   \n",
            "255             -0.9659   \n",
            "260             -0.9848   \n",
            "265             -0.9962   \n",
            "270             -1.0000   \n",
            "275             -0.9962   \n",
            "280             -0.9848   \n",
            "285             -0.9659   \n",
            "290             -0.9397   \n",
            "295             -0.9063   \n",
            "300             -0.8660   \n",
            "305             -0.8192   \n",
            "310             -0.7660   \n",
            "315             -0.7071   \n",
            "320             -0.6428   \n",
            "325             -0.5736   \n",
            "330             -0.5000   \n",
            "335             -0.4226   \n",
            "340             -0.3420   \n",
            "345             -0.2588   \n",
            "350             -0.1736   \n",
            "355             -0.0872   \n",
            "360             -0.0000   \n"
          ]
        }
      ]
    },
    {
      "cell_type": "markdown",
      "source": [
        "Exemplo for ex7"
      ],
      "metadata": {
        "id": "1h_-d5GYHe2K"
      }
    },
    {
      "cell_type": "code",
      "source": [
        "n = int(input(\"digite a quantidade de alunos:\"))\n",
        "soma_das_medias = 0\n",
        "for i in range(n):\n",
        "  print(f\"\\nAluno{i}:\")\n",
        "  n1 = float(input(\"digite a primeira nota:\"))\n",
        "  n2 = float(input(\"digite a segunda nota:\"))\n",
        "  media = (n1 + n2) / 2\n",
        "  soma_das_medias += media\n",
        "  print(f\"media: {media:.2f}\")\n",
        "media_geral = soma_das_medias / n\n",
        ""
      ],
      "metadata": {
        "collapsed": true,
        "id": "qzsHo5MbHq8i",
        "outputId": "bd5673ab-c63b-4c31-fdf5-cdbbd0642c6d",
        "colab": {
          "base_uri": "https://localhost:8080/"
        }
      },
      "execution_count": 8,
      "outputs": [
        {
          "output_type": "stream",
          "name": "stdout",
          "text": [
            "digite a quantidade de alunos:2\n",
            "\n",
            "Aluno0:\n",
            "digite a primeira nota:10\n",
            "digite a segunda nota:8\n",
            "media: 9.00\n",
            "\n",
            "Aluno1:\n",
            "digite a primeira nota:5\n",
            "digite a segunda nota:8\n",
            "media: 6.50\n"
          ]
        }
      ]
    },
    {
      "cell_type": "markdown",
      "source": [
        "Exemplo while ex8"
      ],
      "metadata": {
        "id": "rVdNLeSJuMDT"
      }
    },
    {
      "cell_type": "code",
      "source": [
        "while True:\n",
        "  resposta = input(\"deseja realizar a soma de 2 variaveis? (S/N):\"). strip().upper()\n",
        "  if resposta == 'S':\n",
        "    var1 = float(input(\"digite o valor da primeira variavel:\"))\n",
        "    var2 = float(input(\"digite o valor da segunda variavel:\"))\n",
        "    soma = var1 + var2\n",
        "    print(f\"a soma de {var1} e {var2} é: {soma:.2f}\\n\")\n",
        "  elif resposta == 'N':\n",
        "    print(\"operação finalizada.\")\n",
        "    break\n",
        "  else:\n",
        "    print(\"resposta inválida. tente novamente.\")"
      ],
      "metadata": {
        "id": "GcLITY8Bt9zK",
        "outputId": "7d2c60b0-a0df-4395-ea50-68ef168767bb",
        "colab": {
          "base_uri": "https://localhost:8080/"
        }
      },
      "execution_count": 17,
      "outputs": [
        {
          "output_type": "stream",
          "name": "stdout",
          "text": [
            "deseja realizar a soma de 2 variaveis? (S/N):s\n",
            "digite o valor da primeira variavel:39\n",
            "digite o valor da segunda variavel:439\n",
            "a soma de 39.0 e 439.0 é: 478.00\n",
            "\n",
            "deseja realizar a soma de 2 variaveis? (S/N):n\n",
            "operação finalizada.\n"
          ]
        }
      ]
    },
    {
      "cell_type": "markdown",
      "source": [
        "Exemplo while ex9"
      ],
      "metadata": {
        "id": "wtLreuiMzXiJ"
      }
    },
    {
      "cell_type": "code",
      "source": [
        "while True:\n",
        "  resposta = input(\"deseja realizar uma soma? (sim/nao):\"). lower()\n",
        "  if resposta == 'sim':\n",
        "    var1 = float(input(\"digite o valor da primeira variavel:\"))\n",
        "    var2 = float(input(\"digite o valor da segunda variavel:\"))\n",
        "    soma = var1 + var2\n",
        "    print(\"A soma é\", soma)\n",
        "  else:\n",
        "    print(\"operação finalizada.\")\n",
        "    break"
      ],
      "metadata": {
        "id": "c1PHhvnszg6q",
        "outputId": "315c2706-88dd-4cf0-93e7-b54980ab3782",
        "colab": {
          "base_uri": "https://localhost:8080/"
        }
      },
      "execution_count": null,
      "outputs": [
        {
          "output_type": "stream",
          "name": "stdout",
          "text": [
            "deseja realizar uma soma? (sim/nao):sim\n",
            "digite o valor da primeira variavel:30\n",
            "digite o valor da segunda variavel:49\n",
            "A soma é 79.0\n",
            "deseja realizar uma soma? (sim/nao):nao\n",
            "operação finalizada.\n"
          ]
        }
      ]
    }
  ]
}