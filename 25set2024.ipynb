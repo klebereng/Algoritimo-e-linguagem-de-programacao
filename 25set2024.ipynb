{
  "nbformat": 4,
  "nbformat_minor": 0,
  "metadata": {
    "colab": {
      "provenance": [],
      "include_colab_link": true
    },
    "kernelspec": {
      "name": "python3",
      "display_name": "Python 3"
    },
    "language_info": {
      "name": "python"
    }
  },
  "cells": [
    {
      "cell_type": "markdown",
      "metadata": {
        "id": "view-in-github",
        "colab_type": "text"
      },
      "source": [
        "<a href=\"https://colab.research.google.com/github/klebereng/Algoritimo-e-linguagem-de-programacao/blob/main/25set2024.ipynb\" target=\"_parent\"><img src=\"https://colab.research.google.com/assets/colab-badge.svg\" alt=\"Open In Colab\"/></a>"
      ]
    },
    {
      "cell_type": "markdown",
      "source": [
        "\n",
        "\n",
        "```\n",
        "# Isto está formatado como código\n",
        "```\n",
        "\n",
        "# **AULA 5**\n",
        "\n",
        "\n"
      ],
      "metadata": {
        "id": "7pBriIXfXNy0"
      }
    },
    {
      "cell_type": "markdown",
      "source": [
        "Exemplo for"
      ],
      "metadata": {
        "id": "mEnZbCnjuFga"
      }
    },
    {
      "cell_type": "code",
      "source": [
        "#Para contar de 7 até 20 de 5 em 5\n",
        "#for VARIAVEL in RANGE(inicio, fim, espaço)\n",
        "for i in range(7, 20, 5):\n",
        "  print(i)\n",
        "\n"
      ],
      "metadata": {
        "id": "Oybk2DviabmX",
        "outputId": "35ffb3e1-114f-4a91-9a9a-2d253bcc0931",
        "colab": {
          "base_uri": "https://localhost:8080/"
        }
      },
      "execution_count": null,
      "outputs": [
        {
          "output_type": "stream",
          "name": "stdout",
          "text": [
            "7\n",
            "12\n",
            "17\n"
          ]
        }
      ]
    },
    {
      "cell_type": "markdown",
      "source": [
        "Exemplo while ex8"
      ],
      "metadata": {
        "id": "rVdNLeSJuMDT"
      }
    },
    {
      "cell_type": "code",
      "source": [
        "while True:\n",
        "  resposta = input(\"deseja realizar a soma de 2 variaveis? (S/N):\"). strip().upper()\n",
        "  if resposta == 'S':\n",
        "    var1 = float(input(\"digite o valor da primeira variavel:\"))\n",
        "    var2 = float(input(\"digite o valor da segunda variavel:\"))\n",
        "    soma = var1 + var2\n",
        "    print(f\"a soma de {var1} e {var2} é: {soma:.2f}\\n\")\n",
        "  elif resposta == 'N':\n",
        "    print(\"operação finalizada.\")\n",
        "    break\n",
        "  else:\n",
        "    print(\"resposta inválida. tente novamente.\")"
      ],
      "metadata": {
        "id": "GcLITY8Bt9zK",
        "outputId": "e30e3519-eeb2-4a7f-95c5-ae29a79ae6a7",
        "colab": {
          "base_uri": "https://localhost:8080/"
        }
      },
      "execution_count": 7,
      "outputs": [
        {
          "output_type": "stream",
          "name": "stdout",
          "text": [
            "deseja realizar a soma de 2 variaveis? (S/N):s\n",
            "digite o valor da primeira variavel:30\n",
            "digite o valor da segunda variavel:40\n",
            "a soma de 30.0 e 40.0 é: 70.00\n",
            "\n",
            "deseja realizar a soma de 2 variaveis? (S/N):n\n",
            "operação finalizada.\n"
          ]
        }
      ]
    },
    {
      "cell_type": "markdown",
      "source": [
        "Exemplo while ex9"
      ],
      "metadata": {
        "id": "wtLreuiMzXiJ"
      }
    },
    {
      "cell_type": "code",
      "source": [
        "while True:\n",
        "  resposta = input(\"deseja realizar uma soma? (sim/nao):\"). lower()\n",
        "  if resposta == 'sim':\n",
        "    var1 = float(input(\"digite o valor da primeira variavel:\"))\n",
        "    var2 = float(input(\"digite o valor da segunda variavel:\"))\n",
        "    soma = var1 + var2\n",
        "    print(\"A soma é\", soma)\n",
        "  else:\n",
        "    print(\"operação finalizada.\")\n",
        "    break"
      ],
      "metadata": {
        "id": "c1PHhvnszg6q",
        "outputId": "315c2706-88dd-4cf0-93e7-b54980ab3782",
        "colab": {
          "base_uri": "https://localhost:8080/"
        }
      },
      "execution_count": 10,
      "outputs": [
        {
          "output_type": "stream",
          "name": "stdout",
          "text": [
            "deseja realizar uma soma? (sim/nao):sim\n",
            "digite o valor da primeira variavel:30\n",
            "digite o valor da segunda variavel:49\n",
            "A soma é 79.0\n",
            "deseja realizar uma soma? (sim/nao):nao\n",
            "operação finalizada.\n"
          ]
        }
      ]
    }
  ]
}