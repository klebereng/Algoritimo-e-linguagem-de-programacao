{
  "nbformat": 4,
  "nbformat_minor": 0,
  "metadata": {
    "colab": {
      "provenance": [],
      "authorship_tag": "ABX9TyOaNi7b53WYi5gLwed9Ymvc",
      "include_colab_link": true
    },
    "kernelspec": {
      "name": "python3",
      "display_name": "Python 3"
    },
    "language_info": {
      "name": "python"
    }
  },
  "cells": [
    {
      "cell_type": "markdown",
      "metadata": {
        "id": "view-in-github",
        "colab_type": "text"
      },
      "source": [
        "<a href=\"https://colab.research.google.com/github/klebereng/Civil/blob/main/11set2024.ipynb\" target=\"_parent\"><img src=\"https://colab.research.google.com/assets/colab-badge.svg\" alt=\"Open In Colab\"/></a>"
      ]
    },
    {
      "cell_type": "markdown",
      "source": [
        "# Aula 4"
      ],
      "metadata": {
        "id": "qWy3dg08jP5n"
      }
    },
    {
      "cell_type": "markdown",
      "source": [
        "Programa para ler se e par ou impar"
      ],
      "metadata": {
        "id": "CKdEoB3Jkw0h"
      }
    },
    {
      "cell_type": "code",
      "source": [
        "n=int(input(\"digite um numero inteiro:\"))\n",
        "if n % 2 == 0:\n",
        "  print(f\"O numero {n} é par.\")\n",
        "else:\n",
        "  print(f\"O numero {n} é impar.\")"
      ],
      "metadata": {
        "colab": {
          "base_uri": "https://localhost:8080/"
        },
        "id": "qloGBy3inAiC",
        "outputId": "fc7ba286-3f1e-4c5e-f6e0-bd2228d39d5b"
      },
      "execution_count": 11,
      "outputs": [
        {
          "output_type": "stream",
          "name": "stdout",
          "text": [
            "digite um numero inteiro:3\n",
            "O numero 3 é impar.\n"
          ]
        }
      ]
    },
    {
      "cell_type": "markdown",
      "source": [
        "Programa pra calcular raiz"
      ],
      "metadata": {
        "id": "aVNnaKSQozQ1"
      }
    },
    {
      "cell_type": "code",
      "source": [
        "import math\n",
        "n = float(input(\"digite um numero:\"))\n",
        "if n >= 0:\n",
        "  raiz_quadrada = math.sqrt(n)\n",
        "  print(f\"A raiz quadrada de {n} é {raiz_quadrada: .2f}.\")\n",
        "else:\n",
        "  print(\"não existe raiz real para este numero.\")"
      ],
      "metadata": {
        "colab": {
          "base_uri": "https://localhost:8080/"
        },
        "id": "R61K1kcpo4bu",
        "outputId": "7a47a4e4-d6dd-4669-9198-3b43be41214e"
      },
      "execution_count": 16,
      "outputs": [
        {
          "output_type": "stream",
          "name": "stdout",
          "text": [
            "digite um numero:144\n",
            "A raiz quadrada de 144.0 é  12.00.\n"
          ]
        }
      ]
    },
    {
      "cell_type": "markdown",
      "source": [
        "Programa para tamanho de camiseta"
      ],
      "metadata": {
        "id": "ysrokvv7qQ_5"
      }
    },
    {
      "cell_type": "code",
      "source": [
        "c= float(input(\" digite o comprimento da camiseta em cm:\"))\n",
        "l= float(input(\"digite a largura da camisetaem cm:\"))\n",
        "if c <= 60 and l <= 45:\n",
        "  tamanho = \"PP\"\n",
        "elif c <= 65 and l <= 48:\n",
        "  tamanho = \"P\"\n",
        "elif c <= 70 and l <= 51:\n",
        "  tamanho = \"M\"\n",
        "elif c <= 75 and l <= 54:\n",
        "  tamanho = \"G\"\n",
        "elif c <= 80 and l <= 57:\n",
        "  tamanho = \"GG\"\n",
        "else:\n",
        "  tamanho = \"P\"\n",
        "print(f\"o tamanho da camiseta é {tamanho}.\")"
      ],
      "metadata": {
        "colab": {
          "base_uri": "https://localhost:8080/"
        },
        "id": "6A7Aom36qZNA",
        "outputId": "c3579f3a-29da-41ba-a142-3c7e147d4136"
      },
      "execution_count": 17,
      "outputs": [
        {
          "output_type": "stream",
          "name": "stdout",
          "text": [
            " digite o comprimento da camiseta em cm:60\n",
            "digite a largura da camisetaem cm:45\n",
            "o tamanho da camiseta é PP.\n"
          ]
        }
      ]
    },
    {
      "cell_type": "markdown",
      "source": [],
      "metadata": {
        "id": "nwZLVQ-nsYZ4"
      }
    }
  ]
}