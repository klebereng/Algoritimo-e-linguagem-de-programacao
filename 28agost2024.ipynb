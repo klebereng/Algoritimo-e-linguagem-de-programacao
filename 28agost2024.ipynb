{
  "nbformat": 4,
  "nbformat_minor": 0,
  "metadata": {
    "colab": {
      "provenance": [],
      "authorship_tag": "ABX9TyOqKP2coJJ/ycjj9RDQBrvk",
      "include_colab_link": true
    },
    "kernelspec": {
      "name": "python3",
      "display_name": "Python 3"
    },
    "language_info": {
      "name": "python"
    }
  },
  "cells": [
    {
      "cell_type": "markdown",
      "metadata": {
        "id": "view-in-github",
        "colab_type": "text"
      },
      "source": [
        "<a href=\"https://colab.research.google.com/github/klebereng/Algoritimo-e-linguagem-de-programacao/blob/main/28agost2024.ipynb\" target=\"_parent\"><img src=\"https://colab.research.google.com/assets/colab-badge.svg\" alt=\"Open In Colab\"/></a>"
      ]
    },
    {
      "cell_type": "code",
      "execution_count": null,
      "metadata": {
        "colab": {
          "base_uri": "https://localhost:8080/"
        },
        "id": "WjILHwBFns95",
        "outputId": "caeac273-8d55-4927-d906-07332708a60c"
      },
      "outputs": [
        {
          "output_type": "stream",
          "name": "stdout",
          "text": [
            "<class 'int'>\n",
            "<class 'float'>\n",
            "<class 'float'>\n",
            "5.0\n"
          ]
        }
      ],
      "source": [
        "a = 2\n",
        "print(type(a))\n",
        "b = 3.0\n",
        "print(type(b))\n",
        "soma = a+b\n",
        "print(type(soma))\n",
        "print(soma)"
      ]
    },
    {
      "cell_type": "markdown",
      "source": [
        "Bool são valores lógicos, que podem ser verdadeiro (true) ou falso (false).\n"
      ],
      "metadata": {
        "id": "_Qm_WoQUAln8"
      }
    },
    {
      "cell_type": "code",
      "source": [
        "texto=str(input(\"Digite um texto:\"))\n",
        "print(texto)\n",
        "\n"
      ],
      "metadata": {
        "id": "u4ToShmu_iQm",
        "outputId": "d2f106ea-1fb6-4aea-f8b9-4c5bd0ddd655",
        "colab": {
          "base_uri": "https://localhost:8080/"
        }
      },
      "execution_count": 3,
      "outputs": [
        {
          "output_type": "stream",
          "name": "stdout",
          "text": [
            "Digite um texto:TEXTO\n",
            "TEXTO\n"
          ]
        }
      ]
    },
    {
      "cell_type": "markdown",
      "source": [
        "Str são sequências de caracteres, ou seja, textos."
      ],
      "metadata": {
        "id": "EUAQL6WEAt1n"
      }
    },
    {
      "cell_type": "code",
      "source": [
        "valor_booleano = True\n",
        "print(\"Valor booleano:\", valor_booleano)\n"
      ],
      "metadata": {
        "id": "3fpLoWkqASaU",
        "outputId": "91f3f3cd-7d4d-44a2-aa38-e62b87cc3611",
        "colab": {
          "base_uri": "https://localhost:8080/"
        }
      },
      "execution_count": 4,
      "outputs": [
        {
          "output_type": "stream",
          "name": "stdout",
          "text": [
            "Valor booleano: True\n"
          ]
        }
      ]
    },
    {
      "cell_type": "markdown",
      "source": [
        "Float são números racionais, que podem ter parte decimal."
      ],
      "metadata": {
        "id": "MTddVPyjBNmn"
      }
    },
    {
      "cell_type": "code",
      "source": [
        "a= float(input(\"digite o valor de a:\"))\n",
        "b= float(input(\"digite o valor de b:\"))\n",
        "c= float(input(\"digite o valor de c:\"))\n",
        "if a <= b and a <= c:\n",
        "  print(\"a menor valor\", a)\n",
        "elif b <= a and b <= c:\n",
        "  print(\"b menor valor\", b)\n",
        "elif c <= a and c <= b:\n",
        "  print(\"c menor valor\", c)"
      ],
      "metadata": {
        "id": "oKP_SsDZBCnT",
        "outputId": "6247d1bd-d625-4d66-b121-0a120d9be481",
        "colab": {
          "base_uri": "https://localhost:8080/"
        }
      },
      "execution_count": 5,
      "outputs": [
        {
          "output_type": "stream",
          "name": "stdout",
          "text": [
            "digite o valor de a:3\n",
            "digite o valor de b:4\n",
            "digite o valor de c:5\n",
            "a menor valor 3.0\n"
          ]
        }
      ]
    },
    {
      "cell_type": "markdown",
      "source": [
        "PROGRAMA PARA DIVISAO Int são números inteiros, ou seja, números sem parte decimal"
      ],
      "metadata": {
        "id": "-2n65-0Arf1j"
      }
    },
    {
      "cell_type": "code",
      "source": [
        "num=int(input(\"Digite um numero:\"))\n",
        "quoc = num//2\n",
        "resto = num%2\n",
        "print(\"quociente=\",quoc)\n",
        "print(\"resto=\",resto)"
      ],
      "metadata": {
        "colab": {
          "base_uri": "https://localhost:8080/"
        },
        "id": "qDYz4-X9p3sr",
        "outputId": "aaa49f09-d4b6-499e-c495-7ba63bd7421e"
      },
      "execution_count": null,
      "outputs": [
        {
          "output_type": "stream",
          "name": "stdout",
          "text": [
            "Digite um numero:9\n",
            "quociente= 4\n",
            "resto= 1\n"
          ]
        }
      ]
    },
    {
      "cell_type": "markdown",
      "source": [
        "PROGRAMA PARA CALCULAR MEDIA"
      ],
      "metadata": {
        "id": "uSHeOHFCruIK"
      }
    },
    {
      "cell_type": "code",
      "source": [
        "v1 = int(input(\"digite a nota 1:\"))\n",
        "v2 = int(input(\"digite a nota 2:\"))\n",
        "media = (v1+v2)/2\n",
        "print(\"a media e:\",media)"
      ],
      "metadata": {
        "colab": {
          "base_uri": "https://localhost:8080/"
        },
        "id": "qy4XBdw6qlsC",
        "outputId": "0b592a87-e5df-42f8-d1ae-4debf5ffb3be"
      },
      "execution_count": null,
      "outputs": [
        {
          "output_type": "stream",
          "name": "stdout",
          "text": [
            "digite a nota 1:5\n",
            "digite a nota 2:9\n",
            "a media e: 7.0\n"
          ]
        }
      ]
    }
  ]
}